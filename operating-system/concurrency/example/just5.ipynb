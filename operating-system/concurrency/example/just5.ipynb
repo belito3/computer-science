{
 "cells": [
  {
   "cell_type": "markdown",
   "metadata": {},
   "source": [
    "## Concurrency\n",
    "[The Why, When, and How of Using Python Multi-threading and Multi-Processing](https://medium.com/towards-artificial-intelligence/the-why-when-and-how-of-using-python-multi-threading-and-multi-processing-afd1b8a8ecca)"
   ]
  },
  {
   "cell_type": "markdown",
   "metadata": {},
   "source": [
    "### Single-threaded, single-process"
   ]
  },
  {
   "cell_type": "code",
   "execution_count": 11,
   "metadata": {},
   "outputs": [],
   "source": [
    "import urllib.request\n",
    "from concurrent.futures import ThreadPoolExecutor"
   ]
  },
  {
   "cell_type": "code",
   "execution_count": 12,
   "metadata": {},
   "outputs": [],
   "source": [
    "urls = [\n",
    "  'http://www.python.org',\n",
    "  'https://docs.python.org/3/',\n",
    "  'https://docs.python.org/3/whatsnew/3.7.html',\n",
    "  'https://docs.python.org/3/tutorial/index.html',\n",
    "  'https://docs.python.org/3/library/index.html',\n",
    "  'https://docs.python.org/3/reference/index.html',\n",
    "  'https://docs.python.org/3/using/index.html',\n",
    "  'https://docs.python.org/3/howto/index.html',\n",
    "  'https://docs.python.org/3/installing/index.html',\n",
    "  'https://docs.python.org/3/distributing/index.html',\n",
    "  'https://docs.python.org/3/extending/index.html',\n",
    "  'https://docs.python.org/3/c-api/index.html',\n",
    "  'https://docs.python.org/3/faq/index.html'\n",
    "  ]"
   ]
  },
  {
   "cell_type": "code",
   "execution_count": 13,
   "metadata": {},
   "outputs": [
    {
     "name": "stdout",
     "output_type": "stream",
     "text": [
      "CPU times: user 167 ms, sys: 8.12 ms, total: 175 ms\n",
      "Wall time: 5.42 s\n"
     ]
    }
   ],
   "source": [
    "%%time\n",
    "results = []\n",
    "for url in urls:\n",
    "    with urllib.request.urlopen(url) as src:\n",
    "        results.append(src)"
   ]
  },
  {
   "cell_type": "markdown",
   "metadata": {},
   "source": [
    "### Multi-threading\n"
   ]
  },
  {
   "cell_type": "code",
   "execution_count": 14,
   "metadata": {},
   "outputs": [
    {
     "name": "stdout",
     "output_type": "stream",
     "text": [
      "CPU times: user 152 ms, sys: 22.5 ms, total: 175 ms\n",
      "Wall time: 1.08 s\n"
     ]
    }
   ],
   "source": [
    "%%time\n",
    "\n",
    "with ThreadPoolExecutor(4) as executor:\n",
    "    results = executor.map(urllib.request.urlopen, urls)"
   ]
  },
  {
   "cell_type": "code",
   "execution_count": 15,
   "metadata": {},
   "outputs": [
    {
     "name": "stdout",
     "output_type": "stream",
     "text": [
      "CPU times: user 149 ms, sys: 21.1 ms, total: 170 ms\n",
      "Wall time: 435 ms\n"
     ]
    }
   ],
   "source": [
    "%%time\n",
    "\n",
    "with ThreadPoolExecutor(8) as executor:\n",
    "    results = executor.map(urllib.request.urlopen, urls)"
   ]
  },
  {
   "cell_type": "code",
   "execution_count": 16,
   "metadata": {},
   "outputs": [
    {
     "name": "stdout",
     "output_type": "stream",
     "text": [
      "CPU times: user 167 ms, sys: 27.9 ms, total: 195 ms\n",
      "Wall time: 450 ms\n"
     ]
    }
   ],
   "source": [
    "%%time\n",
    "\n",
    "with ThreadPoolExecutor(16) as executor:\n",
    "    results = executor.map(urllib.request.urlopen, urls)"
   ]
  },
  {
   "cell_type": "markdown",
   "metadata": {},
   "source": [
    "### Multi-processing"
   ]
  },
  {
   "cell_type": "code",
   "execution_count": 17,
   "metadata": {},
   "outputs": [],
   "source": [
    "from multiprocessing import Pool"
   ]
  },
  {
   "cell_type": "code",
   "execution_count": 18,
   "metadata": {},
   "outputs": [],
   "source": [
    "def if_prime(x):\n",
    "    if x <= 1:\n",
    "        return 0\n",
    "    elif x <= 3:\n",
    "        return x\n",
    "    elif x % 2 == 0 or x % 3 == 0:\n",
    "        return 0\n",
    "    i = 5\n",
    "    while i**2 <= x:\n",
    "        if x % i == 0 or x % (i + 2) == 0:\n",
    "            return 0\n",
    "        i += 6\n",
    "    return x"
   ]
  },
  {
   "cell_type": "code",
   "execution_count": 19,
   "metadata": {},
   "outputs": [
    {
     "name": "stdout",
     "output_type": "stream",
     "text": [
      "CPU times: user 3.2 s, sys: 0 ns, total: 3.2 s\n",
      "Wall time: 3.21 s\n"
     ]
    }
   ],
   "source": [
    "%%time\n",
    "\n",
    "answer = 0\n",
    "\n",
    "for i in range(1000000):\n",
    "    answer += if_prime(i)"
   ]
  },
  {
   "cell_type": "code",
   "execution_count": 20,
   "metadata": {},
   "outputs": [
    {
     "name": "stdout",
     "output_type": "stream",
     "text": [
      "CPU times: user 100 ms, sys: 55.2 ms, total: 155 ms\n",
      "Wall time: 1.8 s\n"
     ]
    }
   ],
   "source": [
    "%%time\n",
    "\n",
    "if __name__ == '__main__':\n",
    "    with Pool(2) as p:\n",
    "        answer = sum(p.map(if_prime, list(range(1000000))))"
   ]
  },
  {
   "cell_type": "code",
   "execution_count": 21,
   "metadata": {},
   "outputs": [
    {
     "name": "stdout",
     "output_type": "stream",
     "text": [
      "CPU times: user 108 ms, sys: 28.3 ms, total: 136 ms\n",
      "Wall time: 949 ms\n"
     ]
    }
   ],
   "source": [
    "%%time\n",
    "\n",
    "if __name__ == '__main__':\n",
    "    with Pool(4) as p:\n",
    "        answer = sum(p.map(if_prime, list(range(1000000))))"
   ]
  },
  {
   "cell_type": "code",
   "execution_count": 17,
   "metadata": {},
   "outputs": [
    {
     "name": "stdout",
     "output_type": "stream",
     "text": [
      "777 ms ± 41.2 ms per loop (mean ± std. dev. of 7 runs, 1 loop each)\n"
     ]
    }
   ],
   "source": [
    "%%timeit\n",
    "\n",
    "if __name__ == '__main__':\n",
    "    with Pool(8) as p:\n",
    "        answer = sum(p.map(if_prime, list(range(1000000))))"
   ]
  },
  {
   "cell_type": "code",
   "execution_count": 18,
   "metadata": {},
   "outputs": [
    {
     "name": "stdout",
     "output_type": "stream",
     "text": [
      "770 ms ± 45.3 ms per loop (mean ± std. dev. of 7 runs, 1 loop each)\n"
     ]
    }
   ],
   "source": [
    "%%timeit\n",
    "\n",
    "if __name__ == '__main__':\n",
    "    with Pool(16) as p:\n",
    "        answer = sum(p.map(if_prime, list(range(1000000))))"
   ]
  },
  {
   "cell_type": "code",
   "execution_count": 19,
   "metadata": {},
   "outputs": [
    {
     "name": "stdout",
     "output_type": "stream",
     "text": [
      "862 ms ± 65.7 ms per loop (mean ± std. dev. of 7 runs, 1 loop each)\n"
     ]
    }
   ],
   "source": [
    "%%timeit\n",
    "\n",
    "if __name__ == '__main__':\n",
    "    with Pool(32) as p:\n",
    "        answer = sum(p.map(if_prime, list(range(1000000))))"
   ]
  },
  {
   "cell_type": "code",
   "execution_count": null,
   "metadata": {},
   "outputs": [],
   "source": []
  },
  {
   "cell_type": "markdown",
   "metadata": {},
   "source": [
    "## 1115. Print FooBar Alternately"
   ]
  },
  {
   "attachments": {},
   "cell_type": "markdown",
   "metadata": {},
   "source": [
    "Suppose you are given the following code:\n",
    "```\n",
    "class FooBar {\n",
    "  public void foo() {\n",
    "    for (int i = 0; i < n; i++) {\n",
    "      print(\"foo\");\n",
    "    }\n",
    "  }\n",
    "\n",
    "  public void bar() {\n",
    "    for (int i = 0; i < n; i++) {\n",
    "      print(\"bar\");\n",
    "    }\n",
    "  }\n",
    "}\n",
    "```\n",
    "\n",
    "The same instance of FooBar will be passed to two different threads:\n",
    "\n",
    "    thread A will call foo(), while\n",
    "    thread B will call bar().\n",
    "\n",
    "Modify the given program to output \"foobar\" n times.\n",
    "\n",
    " \n",
    "\n",
    "Example 1:\n",
    "\n",
    "Input: n = 1\n",
    "Output: \"foobar\"\n",
    "\n",
    "Explanation: There are two threads being fired asynchronously. One of them calls foo(), while the other calls bar().\n",
    "\"foobar\" is being output 1 time.\n",
    "\n",
    "Example 2:\n",
    "\n",
    "Input: n = 2\n",
    "Output: \"foobarfoobar\"\n",
    "\n",
    "Explanation: \"foobar\" is being output 2 times.\n",
    "\n",
    " \n",
    "\n",
    "Constraints:\n",
    "\n",
    "    1 <= n <= 1000\n"
   ]
  },
  {
   "cell_type": "code",
   "execution_count": 4,
   "metadata": {},
   "outputs": [
    {
     "name": "stdout",
     "output_type": "stream",
     "text": [
      "foo\n",
      "foo\n",
      "bar\n",
      "bar\n",
      "bar\n",
      "bar\n",
      "bar\n",
      "foo\n",
      "foo\n",
      "foo\n"
     ]
    }
   ],
   "source": [
    "import threading\n",
    "\n",
    "class FooBar:\n",
    "    def __init__(self, n):\n",
    "        self.n = n\n",
    "\n",
    "    def foo(self, printFoo: 'Callable[[], None]') -> None:\n",
    "        for i in range(self.n):\n",
    "            # printFoo() outputs \"foo\". Do not change or remove this line.\n",
    "            printFoo()\n",
    "\n",
    "    def bar(self, printBar: 'Callable[[], None]') -> None:\n",
    "        for i in range(self.n):\n",
    "            # printBar() outputs \"bar\". Do not change or remove this line.\n",
    "            printBar()\n",
    "\n",
    "n = 5\n",
    "\n",
    "foo_bar = FooBar(n)\n",
    "\n",
    "\n",
    "def print_foo():\n",
    "    print(\"foo\")\n",
    "\n",
    "\n",
    "def print_bar():\n",
    "    print(\"bar\")\n",
    "\n",
    "\n",
    "t1 = threading.Thread(target=foo_bar.foo, args=(print_foo,))\n",
    "t2 = threading.Thread(target=foo_bar.bar, args=(print_bar,))\n",
    "\n",
    "t1.start()\n",
    "t2.start()\n",
    "\n",
    "t1.join()\n",
    "t2.join()"
   ]
  },
  {
   "cell_type": "code",
   "execution_count": 10,
   "metadata": {},
   "outputs": [
    {
     "name": "stdout",
     "output_type": "stream",
     "text": [
      "foo\n",
      "bar\n",
      "foo\n",
      "bar\n",
      "foo\n",
      "bar\n",
      "foo\n",
      "bar\n",
      "foo\n",
      "bar\n"
     ]
    }
   ],
   "source": [
    "class FooBar:\n",
    "    def __init__(self, n):\n",
    "        self.n = n\n",
    "        # 1. Khởi tạo lock: foo_lock và bar_lock đều ở trạng thái unlocked\n",
    "        self.foo_lock = threading.Lock()\n",
    "        self.bar_lock = threading.Lock()\n",
    "        # 2. Call acquire() --> khóa bar_lock lại, trạng thái của bar_lock là locked\n",
    "        self.bar_lock.acquire()\n",
    "\n",
    "    def foo(self, printFoo: 'Callable[[], None]') -> None:\n",
    "        for i in range(self.n):\n",
    "            # 3.1.1 Trạng thái foo_lock đang là unlocked, code được thực thi tiếp \n",
    "            # sau đó chuyển trạng thái foor_lock sang locked\n",
    "            self.foo_lock.acquire()\n",
    "            # 3.2. printFoo được thực thi\n",
    "            printFoo()  # Critical Section\n",
    "            # 3.3. release bar_lock: chuyển trạng thái bar_lock sang unlocked -> đi đến bước 3.4\n",
    "            self.bar_lock.release()\n",
    "\n",
    "    def bar(self, printBar: 'Callable[[], None]') -> None:\n",
    "        for i in range(self.n):\n",
    "            # 3.1.2 Trạng thái bar_lock đang là locked, block thực thi cho đến khi bar_lock call release()\n",
    "            self.bar_lock.acquire()\n",
    "            # 3.4 bar_lock ở trạng thái unlocked \n",
    "            # printBar được thực thi và chuyển trạng thái bar_lock sang locked\n",
    "            printBar() # Critical Section\n",
    "            # 3.5. release foo_lock: chuyển trạng thái foo_lock sang unlocked -> đi đến bước 3.1.1\n",
    "            self.foo_lock.release()\n",
    "\n",
    "\n",
    "n = 5\n",
    "foo_bar = FooBar(n)\n",
    "\n",
    "\n",
    "def print_foo():\n",
    "    print(\"foo\")\n",
    "\n",
    "\n",
    "def print_bar():\n",
    "    print(\"bar\")\n",
    "\n",
    "\n",
    "t1 = threading.Thread(target=foo_bar.foo, args=(print_foo,))\n",
    "t2 = threading.Thread(target=foo_bar.bar, args=(print_bar,))\n",
    "\n",
    "t1.start()\n",
    "t2.start()\n",
    "\n",
    "t1.join()\n",
    "t2.join()\n"
   ]
  }
 ],
 "metadata": {
  "kernelspec": {
   "display_name": "Python 3 (ipykernel)",
   "language": "python",
   "name": "python3"
  },
  "language_info": {
   "codemirror_mode": {
    "name": "ipython",
    "version": 3
   },
   "file_extension": ".py",
   "mimetype": "text/x-python",
   "name": "python",
   "nbconvert_exporter": "python",
   "pygments_lexer": "ipython3",
   "version": "3.9.12"
  }
 },
 "nbformat": 4,
 "nbformat_minor": 2
}
