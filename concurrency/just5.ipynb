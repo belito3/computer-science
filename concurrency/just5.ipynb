{
 "cells": [
  {
   "cell_type": "markdown",
   "metadata": {},
   "source": [
    "## Concurrency\n",
    "[The Why, When, and How of Using Python Multi-threading and Multi-Processing](https://medium.com/towards-artificial-intelligence/the-why-when-and-how-of-using-python-multi-threading-and-multi-processing-afd1b8a8ecca)"
   ]
  },
  {
   "cell_type": "code",
   "execution_count": 11,
   "metadata": {},
   "outputs": [],
   "source": [
    "import urllib.request\n",
    "from concurrent.futures import ThreadPoolExecutor"
   ]
  },
  {
   "cell_type": "code",
   "execution_count": 2,
   "metadata": {},
   "outputs": [],
   "source": [
    "urls = [\n",
    "  'http://www.python.org',\n",
    "  'https://docs.python.org/3/',\n",
    "  'https://docs.python.org/3/whatsnew/3.7.html',\n",
    "  'https://docs.python.org/3/tutorial/index.html',\n",
    "  'https://docs.python.org/3/library/index.html',\n",
    "  'https://docs.python.org/3/reference/index.html',\n",
    "  'https://docs.python.org/3/using/index.html',\n",
    "  'https://docs.python.org/3/howto/index.html',\n",
    "  'https://docs.python.org/3/installing/index.html',\n",
    "  'https://docs.python.org/3/distributing/index.html',\n",
    "  'https://docs.python.org/3/extending/index.html',\n",
    "  'https://docs.python.org/3/c-api/index.html',\n",
    "  'https://docs.python.org/3/faq/index.html'\n",
    "  ]"
   ]
  },
  {
   "cell_type": "code",
   "execution_count": 10,
   "metadata": {},
   "outputs": [
    {
     "name": "stdout",
     "output_type": "stream",
     "text": [
      "CPU times: user 272 ms, sys: 27.3 ms, total: 300 ms\n",
      "Wall time: 2.01 s\n"
     ]
    }
   ],
   "source": [
    "%%time\n",
    "results = []\n",
    "for url in urls:\n",
    "    with urllib.request.urlopen(url) as src:\n",
    "        results.append(src)"
   ]
  },
  {
   "cell_type": "markdown",
   "metadata": {},
   "source": [
    "### Multithread"
   ]
  },
  {
   "cell_type": "code",
   "execution_count": 7,
   "metadata": {},
   "outputs": [
    {
     "name": "stdout",
     "output_type": "stream",
     "text": [
      "CPU times: user 227 ms, sys: 23.9 ms, total: 251 ms\n",
      "Wall time: 739 ms\n"
     ]
    }
   ],
   "source": [
    "%%time\n",
    "\n",
    "with ThreadPoolExecutor(4) as executor:\n",
    "    results = executor.map(urllib.request.urlopen, urls)"
   ]
  },
  {
   "cell_type": "code",
   "execution_count": 8,
   "metadata": {},
   "outputs": [
    {
     "name": "stdout",
     "output_type": "stream",
     "text": [
      "CPU times: user 233 ms, sys: 24.2 ms, total: 257 ms\n",
      "Wall time: 556 ms\n"
     ]
    }
   ],
   "source": [
    "%%time\n",
    "\n",
    "with ThreadPoolExecutor(8) as executor:\n",
    "    results = executor.map(urllib.request.urlopen, urls)"
   ]
  },
  {
   "cell_type": "code",
   "execution_count": 9,
   "metadata": {},
   "outputs": [
    {
     "name": "stdout",
     "output_type": "stream",
     "text": [
      "CPU times: user 132 ms, sys: 15.6 ms, total: 148 ms\n",
      "Wall time: 244 ms\n"
     ]
    }
   ],
   "source": [
    "%%time\n",
    "\n",
    "with ThreadPoolExecutor(16) as executor:\n",
    "    results = executor.map(urllib.request.urlopen, urls)"
   ]
  },
  {
   "cell_type": "markdown",
   "metadata": {},
   "source": [
    "### Multiprocess"
   ]
  },
  {
   "cell_type": "code",
   "execution_count": 12,
   "metadata": {},
   "outputs": [],
   "source": [
    "from multiprocessing import Pool"
   ]
  },
  {
   "cell_type": "code",
   "execution_count": 13,
   "metadata": {},
   "outputs": [],
   "source": [
    "def if_prime(x):\n",
    "    if x <= 1:\n",
    "        return 0\n",
    "    elif x <= 3:\n",
    "        return x\n",
    "    elif x % 2 == 0 or x % 3 == 0:\n",
    "        return 0\n",
    "    i = 5\n",
    "    while i**2 <= x:\n",
    "        if x % i == 0 or x % (i + 2) == 0:\n",
    "            return 0\n",
    "        i += 6\n",
    "    return x"
   ]
  },
  {
   "cell_type": "code",
   "execution_count": 14,
   "metadata": {},
   "outputs": [
    {
     "name": "stdout",
     "output_type": "stream",
     "text": [
      "CPU times: user 3.25 s, sys: 0 ns, total: 3.25 s\n",
      "Wall time: 3.24 s\n"
     ]
    }
   ],
   "source": [
    "%%time\n",
    "\n",
    "answer = 0\n",
    "\n",
    "for i in range(1000000):\n",
    "    answer += if_prime(i)"
   ]
  },
  {
   "cell_type": "code",
   "execution_count": 15,
   "metadata": {},
   "outputs": [
    {
     "name": "stdout",
     "output_type": "stream",
     "text": [
      "CPU times: user 112 ms, sys: 43.7 ms, total: 156 ms\n",
      "Wall time: 1.91 s\n"
     ]
    }
   ],
   "source": [
    "%%time\n",
    "\n",
    "if __name__ == '__main__':\n",
    "    with Pool(2) as p:\n",
    "        answer = sum(p.map(if_prime, list(range(1000000))))"
   ]
  },
  {
   "cell_type": "code",
   "execution_count": 16,
   "metadata": {},
   "outputs": [
    {
     "name": "stdout",
     "output_type": "stream",
     "text": [
      "CPU times: user 85.2 ms, sys: 61 ms, total: 146 ms\n",
      "Wall time: 1.03 s\n"
     ]
    }
   ],
   "source": [
    "%%time\n",
    "\n",
    "if __name__ == '__main__':\n",
    "    with Pool(4) as p:\n",
    "        answer = sum(p.map(if_prime, list(range(1000000))))"
   ]
  },
  {
   "cell_type": "code",
   "execution_count": 17,
   "metadata": {},
   "outputs": [
    {
     "name": "stdout",
     "output_type": "stream",
     "text": [
      "777 ms ± 41.2 ms per loop (mean ± std. dev. of 7 runs, 1 loop each)\n"
     ]
    }
   ],
   "source": [
    "%%timeit\n",
    "\n",
    "if __name__ == '__main__':\n",
    "    with Pool(8) as p:\n",
    "        answer = sum(p.map(if_prime, list(range(1000000))))"
   ]
  },
  {
   "cell_type": "code",
   "execution_count": 18,
   "metadata": {},
   "outputs": [
    {
     "name": "stdout",
     "output_type": "stream",
     "text": [
      "770 ms ± 45.3 ms per loop (mean ± std. dev. of 7 runs, 1 loop each)\n"
     ]
    }
   ],
   "source": [
    "%%timeit\n",
    "\n",
    "if __name__ == '__main__':\n",
    "    with Pool(16) as p:\n",
    "        answer = sum(p.map(if_prime, list(range(1000000))))"
   ]
  },
  {
   "cell_type": "code",
   "execution_count": 19,
   "metadata": {},
   "outputs": [
    {
     "name": "stdout",
     "output_type": "stream",
     "text": [
      "862 ms ± 65.7 ms per loop (mean ± std. dev. of 7 runs, 1 loop each)\n"
     ]
    }
   ],
   "source": [
    "%%timeit\n",
    "\n",
    "if __name__ == '__main__':\n",
    "    with Pool(32) as p:\n",
    "        answer = sum(p.map(if_prime, list(range(1000000))))"
   ]
  }
 ],
 "metadata": {
  "kernelspec": {
   "display_name": "Python 3",
   "language": "python",
   "name": "python3"
  },
  "language_info": {
   "codemirror_mode": {
    "name": "ipython",
    "version": 3
   },
   "file_extension": ".py",
   "mimetype": "text/x-python",
   "name": "python",
   "nbconvert_exporter": "python",
   "pygments_lexer": "ipython3",
   "version": "3.7.3"
  }
 },
 "nbformat": 4,
 "nbformat_minor": 2
}
